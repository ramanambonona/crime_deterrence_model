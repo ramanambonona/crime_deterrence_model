{
 "cells": [
  {
   "cell_type": "code",
   "execution_count": 1,
   "metadata": {
    "collapsed": false
   },
   "outputs": [
    {
     "name": "stderr",
     "output_type": "stream",
     "text": [
      "/tmp/ipykernel_2156/4107177530.py:5: MatplotlibDeprecationWarning: Support for setting an rcParam that expects a str value to a non-str value is deprecated since 3.5 and support will be removed two minor releases later.\n",
      "  matplotlib.rcParams['text.latex.preamble'] = [r'\\usepackage{amsmath}']\n"
     ]
    }
   ],
   "source": [
    "from __future__ import unicode_literals\n",
    "import numpy as np\n",
    "import matplotlib\n",
    "matplotlib.rcParams['text.usetex'] = True\n",
    "matplotlib.rcParams['text.latex.preamble'] = [r'\\usepackage{amsmath}']\n",
    "import matplotlib.pyplot as plt\n",
    "from sympy import *\n",
    "from IPython.core.interactiveshell import InteractiveShell #print all elements, not only last one\n",
    "InteractiveShell.ast_node_interactivity = \"all\"\n",
    "init_printing(use_unicode=True)\n",
    "\n",
    "%matplotlib inline"
   ]
  },
  {
   "cell_type": "markdown",
   "metadata": {
    "collapsed": false
   },
   "source": [
    "# Définition de la fonction et des variables</span>\n",
    "\n"
   ]
  },
  {
   "cell_type": "code",
   "execution_count": 2,
   "metadata": {
    "collapsed": false
   },
   "outputs": [
    {
     "data": {
      "image/png": "[encoded data removed]",
      "text/latex": [
       "$\\displaystyle \\operatorname{EU_{1}}{\\left(q,b,S \\right)}$"
      ],
      "text/plain": [
       "EU₁(q, b, S)"
      ]
     },
     "execution_count": 2,
     "metadata": {
     },
     "output_type": "execute_result"
    },
    {
     "data": {
      "image/png": "[encoded data removed]",
      "text/latex": [
       "$\\displaystyle \\operatorname{EU_{2}}{\\left(q,h,w \\right)}$"
      ],
      "text/plain": [
       "EU₂(q, h, w)"
      ]
     },
     "execution_count": 2,
     "metadata": {
     },
     "output_type": "execute_result"
    },
    {
     "data": {
      "image/png": "[encoded data removed]",
      "text/latex": [
       "$\\displaystyle f{\\left(b \\right)}$"
      ],
      "text/plain": [
       "f(b)"
      ]
     },
     "execution_count": 2,
     "metadata": {
     },
     "output_type": "execute_result"
    },
    {
     "data": {
      "image/png": "[encoded data removed]",
      "text/latex": [
       "$\\displaystyle C{\\left(q \\right)}$"
      ],
      "text/plain": [
       "C(q)"
      ]
     },
     "execution_count": 2,
     "metadata": {
     },
     "output_type": "execute_result"
    }
   ],
   "source": [
    "q, b, S, h, w, B, h0 = symbols('q, b, S, h, w, bbar, h0') # p : probabilité d'arrestation et de condamnation, b : bénéfice monétaire après avoir accompli le crime, S : sanction ou amende, h : préjudice, w : richesse de la victime\n",
    "EU1 = symbols('EU1', cls=Function)(q,b,S) # utilité attendue pour le délinquant\n",
    "EU2 = symbols ('EU2', cls=Function)(q,h,w) # utilité attendue pour la victime\n",
    "f = symbols ('f', cls = Function)(b) # fonction de densité de b\n",
    "C = symbols ('C', cls = Function)(q) # coût d'appréhension et de sanction\n",
    "dF = symbols ('dF', cls = Function)(b) # fonction de répartition\n",
    "b0 = symbols ('b0', cls = Function)(q,S) # monetary benefit expected\n",
    "\n",
    "EU1\n",
    "EU2\n",
    "f\n",
    "C"
   ]
  },
  {
   "cell_type": "code",
   "execution_count": 3,
   "metadata": {
    "collapsed": false
   },
   "outputs": [
   ],
   "source": [
    "def EU1(q, b=b, S=S):\n",
    "    return (1-q)*b + q*(b-S)\n",
    "\n",
    "def EU2(q, w=w, h =h):\n",
    "    return (1-q)*(w -h) + q*w\n",
    "\n",
    "def b_expected(S=S, q=q) :\n",
    "    return q*S"
   ]
  },
  {
   "cell_type": "markdown",
   "metadata": {
    "collapsed": false
   },
   "source": [
    "# Coût marginal d'appréhension et de sanction"
   ]
  },
  {
   "cell_type": "code",
   "execution_count": 4,
   "metadata": {
    "collapsed": false
   },
   "outputs": [
    {
     "data": {
      "image/png": "[encoded data removed]",
      "text/latex": [
       "$\\displaystyle \\frac{d}{d q} C{\\left(q \\right)}$"
      ],
      "text/plain": [
       "d       \n",
       "──(C(q))\n",
       "dq      "
      ]
     },
     "execution_count": 4,
     "metadata": {
     },
     "output_type": "execute_result"
    }
   ],
   "source": [
    "# coût marginal d'appréhension et de sanction\n",
    "c_m = C.diff(q)\n",
    "c_m"
   ]
  },
  {
   "cell_type": "code",
   "execution_count": 5,
   "metadata": {
    "collapsed": false
   },
   "outputs": [
    {
     "data": {
      "image/png": "[encoded data removed]",
      "text/latex": [
       "$\\displaystyle - S$"
      ],
      "text/plain": [
       "-S"
      ]
     },
     "execution_count": 5,
     "metadata": {
     },
     "output_type": "execute_result"
    },
    {
     "data": {
      "image/png": "[encoded data removed]",
      "text/latex": [
       "$\\displaystyle - q$"
      ],
      "text/plain": [
       "-q"
      ]
     },
     "execution_count": 5,
     "metadata": {
     },
     "output_type": "execute_result"
    },
    {
     "data": {
      "image/png": "[encoded data removed]",
      "text/latex": [
       "$\\displaystyle 1$"
      ],
      "text/plain": [
       "1"
      ]
     },
     "execution_count": 5,
     "metadata": {
     },
     "output_type": "execute_result"
    }
   ],
   "source": [
    "q_m = EU1(q, b, S).diff(q) # pour voir l'effet d'une variation de q sur l'utilité espérée du délinquant\n",
    "s_m = EU1(q, b, S).diff(S) # pour voir l'effet d'une variation de s sur l'utilité espérée du délinquant\n",
    "b_m = EU1(q, b, S).diff(b) # pour voir l'effet d'une variation de b sur l'utilité espérée du délinquant\n",
    "q_m\n",
    "s_m\n",
    "b_m"
   ]
  },
  {
   "cell_type": "code",
   "execution_count": 6,
   "metadata": {
    "collapsed": false
   },
   "outputs": [
    {
     "data": {
      "image/png": "[encoded data removed]",
      "text/latex": [
       "$\\displaystyle h$"
      ],
      "text/plain": [
       "h"
      ]
     },
     "execution_count": 6,
     "metadata": {
     },
     "output_type": "execute_result"
    },
    {
     "data": {
      "image/png": "[encoded data removed]",
      "text/latex": [
       "$\\displaystyle q - 1$"
      ],
      "text/plain": [
       "q - 1"
      ]
     },
     "execution_count": 6,
     "metadata": {
     },
     "output_type": "execute_result"
    },
    {
     "data": {
      "image/png": "[encoded data removed]",
      "text/latex": [
       "$\\displaystyle 1$"
      ],
      "text/plain": [
       "1"
      ]
     },
     "execution_count": 6,
     "metadata": {
     },
     "output_type": "execute_result"
    }
   ],
   "source": [
    "q_vic = EU2(q, w, h).diff(q) # pour voir l'effet d'une variation de q sur l'utilité espérée de la victime\n",
    "h_m = EU2(q, w, h).diff(h) # pour voir l'effet d'une variation de h sur l'utilité espérée de la victime\n",
    "w_m = EU2(q, w, h).diff(w) # pour voir l'effet d'une variation de q sur l'utilité espérée de la victime\n",
    "q_vic\n",
    "h_m\n",
    "w_m"
   ]
  },
  {
   "cell_type": "markdown",
   "metadata": {
    "collapsed": false
   },
   "source": [
    "# Bénéfice attendu si le délinquant est un individu neutre au risque\n",
    "\n"
   ]
  },
  {
   "cell_type": "code",
   "execution_count": 7,
   "metadata": {
    "collapsed": false
   },
   "outputs": [
    {
     "data": {
      "image/png": "[encoded data removed]",
      "text/latex": [
       "$\\displaystyle - S q + b = 0$"
      ],
      "text/plain": [
       "-S⋅q + b = 0"
      ]
     },
     "execution_count": 7,
     "metadata": {
     },
     "output_type": "execute_result"
    },
    {
     "data": {
      "image/png": "[encoded data removed]",
      "text/latex": [
       "$\\displaystyle b = S q$"
      ],
      "text/plain": [
       "b = S⋅q"
      ]
     },
     "execution_count": 7,
     "metadata": {
     },
     "output_type": "execute_result"
    }
   ],
   "source": [
    "EU1 = (1-q)*b + q*(b-S)\n",
    "eq1 = Eq(simplify(EU1), 0)\n",
    "eq1\n",
    "b_expect = solve(eq1,b)[0]\n",
    "eq2 = Eq(b, b_expect)\n",
    "eq2"
   ]
  },
  {
   "cell_type": "markdown",
   "metadata": {
    "collapsed": false
   },
   "source": [
    "# Bien être social"
   ]
  },
  {
   "cell_type": "code",
   "execution_count": 8,
   "metadata": {
    "collapsed": false
   },
   "outputs": [
    {
     "data": {
      "image/png": "[encoded data removed]",
      "text/latex": [
       "$\\displaystyle - C{\\left(q \\right)} + \\int\\limits_{S q}^{\\bar{b}} \\left(b - h\\right) f{\\left(b \\right)}\\, db$"
      ],
      "text/plain": [
       "         b̅                \n",
       "         ⌠                 \n",
       "-C(q) +  ⎮  (b - h)⋅f(b) db\n",
       "         ⌡                 \n",
       "        S⋅q                "
      ]
     },
     "execution_count": 8,
     "metadata": {
     },
     "output_type": "execute_result"
    },
    {
     "name": "stderr",
     "output_type": "stream",
     "text": [
      "/usr/local/lib/python3.8/dist-packages/sympy/core/relational.py:486: SymPyDeprecationWarning: \n",
      "\n",
      "Eq(expr) with rhs default to 0 has been deprecated since SymPy 1.5.\n",
      "Use Eq(expr, 0) instead. See\n",
      "https://github.com/sympy/sympy/issues/16587 for more info.\n",
      "\n",
      "  SymPyDeprecationWarning(\n"
     ]
    },
    {
     "data": {
      "image/png": "[encoded data removed]",
      "text/latex": [
       "$\\displaystyle S \\tilde{b} f{\\left(\\tilde{b} \\right)} - S h f{\\left(\\tilde{b} \\right)} + \\frac{d}{d q} C{\\left(q \\right)} = 0$"
      ],
      "text/plain": [
       "                      d           \n",
       "S⋅b̃⋅f(b̃) - S⋅h⋅f(b̃) + ──(C(q)) = 0\n",
       "                      dq          "
      ]
     },
     "execution_count": 8,
     "metadata": {
     },
     "output_type": "execute_result"
    },
    {
     "name": "stderr",
     "output_type": "stream",
     "text": [
      "/usr/local/lib/python3.8/dist-packages/sympy/core/relational.py:486: SymPyDeprecationWarning: \n",
      "\n",
      "Eq(expr) with rhs default to 0 has been deprecated since SymPy 1.5.\n",
      "Use Eq(expr, 0) instead. See\n",
      "https://github.com/sympy/sympy/issues/16587 for more info.\n",
      "\n",
      "  SymPyDeprecationWarning(\n"
     ]
    },
    {
     "data": {
      "image/png": "[encoded data removed]",
      "text/latex": [
       "$\\displaystyle q \\left(S q - h\\right) f{\\left(S q \\right)}$"
      ],
      "text/plain": [
       "q⋅(S⋅q - h)⋅f(S⋅q)"
      ]
     },
     "execution_count": 8,
     "metadata": {
     },
     "output_type": "execute_result"
    },
    {
     "data": {
      "image/png": "[encoded data removed]",
      "text/latex": [
       "$\\displaystyle q \\left(\\tilde{b} - h\\right) f{\\left(\\tilde{b} \\right)} = 0$"
      ],
      "text/plain": [
       "q⋅(b̃ - h)⋅f(b̃) = 0"
      ]
     },
     "execution_count": 8,
     "metadata": {
     },
     "output_type": "execute_result"
    }
   ],
   "source": [
    "# bien être social\n",
    "b0 = q*S\n",
    "funct = (b-h)*f # fonction de bien être social\n",
    "welfare = integrate(funct, (b, (b0, B))) - C\n",
    "welfare\n",
    "\n",
    "\n",
    "derive_q = Eq(welfare.diff(q)) # dérivée du bien être social par rapport à q\n",
    "q_star = solve(derive_q, 0) [0]\n",
    "\n",
    "equa_q = Eq(factor(q_star),0)\n",
    "equa_q.subs(q*S,'btilde')\n",
    "\n",
    "derive_s = Eq(welfare.diff(S)) # dérviée du bien être social par rapport à S\n",
    "S_star = solve(derive_s, 0) [0]\n",
    "S_star\n",
    "equa_S = Eq(factor(S_star),0)\n",
    "equa_S.subs(q*S,'btilde')"
   ]
  },
  {
   "cell_type": "code",
   "execution_count": 9,
   "metadata": {
    "collapsed": false
   },
   "outputs": [
    {
     "data": {
      "image/png": "[encoded data removed]",
      "text/latex": [
       "$\\displaystyle - \\bar{S} \\left(\\bar{S} q - h\\right) f{\\left(\\bar{S} q \\right)} - \\frac{d}{d q} C{\\left(q \\right)} = 0$"
      ],
      "text/plain": [
       "                      d           \n",
       "-S̅⋅(S̅⋅q - h)⋅f(S̅⋅q) - ──(C(q)) = 0\n",
       "                      dq          "
      ]
     },
     "execution_count": 9,
     "metadata": {
     },
     "output_type": "execute_result"
    },
    {
     "data": {
      "image/png": "[encoded data removed]",
      "text/latex": [
       "$\\displaystyle \\left[ \\left\\{ h : \\bar{S} q + \\frac{\\frac{d}{d q} C{\\left(q \\right)}}{\\bar{S} f{\\left(\\bar{S} q \\right)}}\\right\\}\\right]$"
      ],
      "text/plain": [
       "⎡⎧         d       ⎫⎤\n",
       "⎢⎪         ──(C(q))⎪⎥\n",
       "⎢⎨         dq      ⎬⎥\n",
       "⎢⎪h: S̅⋅q + ────────⎪⎥\n",
       "⎣⎩         S̅⋅f(S̅⋅q)⎭⎦"
      ]
     },
     "execution_count": 9,
     "metadata": {
     },
     "output_type": "execute_result"
    },
    {
     "data": {
      "image/png": "[encoded data removed]",
      "text/latex": [
       "$\\displaystyle \\bar{q} \\left(S \\bar{q} - h\\right) f{\\left(S \\bar{q} \\right)} = 0$"
      ],
      "text/plain": [
       "q̅⋅(S⋅q̅ - h)⋅f(S⋅q̅) = 0"
      ]
     },
     "execution_count": 9,
     "metadata": {
     },
     "output_type": "execute_result"
    },
    {
     "data": {
      "image/png": "[encoded data removed]",
      "text/latex": [
       "$\\displaystyle \\left[ \\left\\{ h : S \\bar{q}\\right\\}\\right]$"
      ],
      "text/plain": [
       "[{h: S⋅q̅}]"
      ]
     },
     "execution_count": 9,
     "metadata": {
     },
     "output_type": "execute_result"
    }
   ],
   "source": [
    "# optimum\n",
    "\n",
    "q0 = symbols ('qbar', real = True)\n",
    "S0 = symbols ('Sbar', real = True)\n",
    "\n",
    "derive_q.subs(S, S0)\n",
    "solve(derive_q.subs(S, S0))\n",
    "\n",
    "equa_S = Eq(S_star.subs(q,q0),0)\n",
    "equa_S\n",
    "\n",
    "S_opt = equa_S.subs(q, q0)\n",
    "solve(S_opt)"
   ]
  },
  {
   "cell_type": "markdown",
   "metadata": {
    "collapsed": false
   },
   "source": [
    "# Exemple d'application"
   ]
  },
  {
   "cell_type": "code",
   "execution_count": 10,
   "metadata": {
    "collapsed": false
   },
   "outputs": [
    {
     "data": {
      "text/plain": [
       "Text(0, 0.5, 'Welfare')"
      ]
     },
     "execution_count": 10,
     "metadata": {
     },
     "output_type": "execute_result"
    },
    {
     "data": {
      "text/plain": [
       "Text(0.5, 0, 'p')"
      ]
     },
     "execution_count": 10,
     "metadata": {
     },
     "output_type": "execute_result"
    },
    {
     "data": {
      "text/plain": [
       "Text(0, 0.5, 'S')"
      ]
     },
     "execution_count": 10,
     "metadata": {
     },
     "output_type": "execute_result"
    },
    {
     "data": {
      "text/plain": [
       "Text(0.5, 1.0, 'Welfare as a Function of p and S')"
      ]
     },
     "execution_count": 10,
     "metadata": {
     },
     "output_type": "execute_result"
    },
    {
     "data": {
      "text/plain": [
       "<function matplotlib.pyplot.show(close=None, block=None)>"
      ]
     },
     "execution_count": 10,
     "metadata": {
     },
     "output_type": "execute_result"
    },
    {
     "data": {
      "image/png": "[encoded data removed]",
      "text/plain": [
       "<Figure size 432x288 with 2 Axes>"
      ]
     },
     "execution_count": 10,
     "metadata": {
      "image/png": {
       "height": 274,
       "width": 382
      },
      "needs_background": "light"
     },
     "output_type": "execute_result"
    }
   ],
   "source": [
    "f = Piecewise((1, And(b >= 0, b <= 1)), (0, True))\n",
    "\n",
    "# Define other parameters\n",
    "h = 1\n",
    "w = 1\n",
    "B = 2\n",
    "C = q**2\n",
    "h0 = 0.5\n",
    "\n",
    "# Define welfare function\n",
    "b0 = q*S\n",
    "funct = (b-h)*f\n",
    "welfare = integrate(funct, (b, (b0, B))) - C\n",
    "\n",
    "# Define a function to evaluate welfare given p and S\n",
    "welfare_func = lambdify((q, S), welfare.subs(h, h0).subs(w, 1).subs(B, 2).subs(C, q**2).subs(b0, q*S))\n",
    "\n",
    "# Evaluate welfare for different values of p and S\n",
    "p_values = np.linspace(0, 1, 101)\n",
    "S_values = np.linspace(0, 1, 101)\n",
    "welfare_values = np.zeros((len(p_values), len(S_values)))\n",
    "for i, p in enumerate(p_values):\n",
    "    for j, S in enumerate(S_values):\n",
    "        welfare_values[i, j] = welfare_func(p, S)\n",
    "\n",
    "# Plot the welfare function for different values of p and S\n",
    "fig, ax = plt.subplots()\n",
    "CS = ax.contourf(p_values, S_values, welfare_values, levels=30, cmap='RdYlBu')\n",
    "cbar = fig.colorbar(CS)\n",
    "cbar.ax.set_ylabel('Welfare')\n",
    "ax.set_xlabel('p')\n",
    "ax.set_ylabel('S')\n",
    "ax.set_title('Welfare as a Function of p and S')\n",
    "plt.show"
   ]
  },
  {
   "cell_type": "markdown",
   "metadata": {
    "collapsed": false
   },
   "source": [
    "## fonction de densité uniforme et coût quadratique"
   ]
  },
  {
   "cell_type": "code",
   "execution_count": 11,
   "metadata": {
    "collapsed": false
   },
   "outputs": [
    {
     "data": {
      "image/png": "[encoded data removed]",
      "text/latex": [
       "$\\displaystyle - S q + \\bar{b} - h \\log{\\left(\\bar{b} \\right)} + h \\log{\\left(S q \\right)} - q^{2}$"
      ],
      "text/plain": [
       "                                    2\n",
       "-S⋅q + b̅ - h⋅log(b̅) + h⋅log(S⋅q) - q "
      ]
     },
     "execution_count": 11,
     "metadata": {
     },
     "output_type": "execute_result"
    },
    {
     "name": "stderr",
     "output_type": "stream",
     "text": [
      "/usr/local/lib/python3.8/dist-packages/sympy/core/relational.py:486: SymPyDeprecationWarning: \n",
      "\n",
      "Eq(expr) with rhs default to 0 has been deprecated since SymPy 1.5.\n",
      "Use Eq(expr, 0) instead. See\n",
      "https://github.com/sympy/sympy/issues/16587 for more info.\n",
      "\n",
      "  SymPyDeprecationWarning(\n"
     ]
    },
    {
     "data": {
      "image/png": "[encoded data removed]",
      "text/latex": [
       "$\\displaystyle - \\bar{S} + \\frac{h}{q} - 2 q = 0$"
      ],
      "text/plain": [
       "     h          \n",
       "-S̅ + ─ - 2⋅q = 0\n",
       "     q          "
      ]
     },
     "execution_count": 11,
     "metadata": {
     },
     "output_type": "execute_result"
    },
    {
     "data": {
      "image/png": "[encoded data removed]",
      "text/latex": [
       "$\\displaystyle \\left[ \\left\\{ \\bar{S} : \\frac{h}{q} - 2 q\\right\\}\\right]$"
      ],
      "text/plain": [
       "⎡⎧   h      ⎫⎤\n",
       "⎢⎨S̅: ─ - 2⋅q⎬⎥\n",
       "⎣⎩   q      ⎭⎦"
      ]
     },
     "execution_count": 11,
     "metadata": {
     },
     "output_type": "execute_result"
    },
    {
     "data": {
      "image/png": "[encoded data removed]",
      "text/latex": [
       "$\\displaystyle \\bar{q} - \\frac{h}{S} = 0$"
      ],
      "text/plain": [
       "    h    \n",
       "q̅ - ─ = 0\n",
       "    S    "
      ]
     },
     "execution_count": 11,
     "metadata": {
     },
     "output_type": "execute_result"
    },
    {
     "data": {
      "image/png": "[encoded data removed]",
      "text/latex": [
       "$\\displaystyle \\left[ \\left\\{ S : \\frac{h}{\\bar{q}}\\right\\}\\right]$"
      ],
      "text/plain": [
       "⎡⎧   h⎫⎤\n",
       "⎢⎨S: ─⎬⎥\n",
       "⎣⎩   q̅⎭⎦"
      ]
     },
     "execution_count": 11,
     "metadata": {
     },
     "output_type": "execute_result"
    }
   ],
   "source": [
    "from sympy import *\n",
    "from IPython.core.interactiveshell import InteractiveShell #print all elements, not only last one\n",
    "InteractiveShell.ast_node_interactivity = \"all\"\n",
    "init_printing(use_unicode=True)\n",
    "\n",
    "%matplotlib inline\n",
    "q, b, S, h, w, B, h0 = symbols('q, b, S, h, w, bbar, h0') # p : probabilité d'arrestation et de condamnation, b : bénéfice monétaire après avoir accompli le crime, S : sanction ou amende, h : préjudice, w : richesse de la victime\n",
    "EU1 = symbols('EU1', cls=Function)(q,b,S) # utilité attendue pour le délinquant\n",
    "EU2 = symbols ('EU2', cls=Function)(q,h,w) # Utilité attendue pour la victime\n",
    "f = symbols ('f', cls = Function)(b) # fonction de densité de b\n",
    "C = symbols ('C', cls = Function)(q) # coût de l'appréhension et de la condamnation\n",
    "dF = symbols ('dF', cls = Function)(b)  # fonction cumulative ou fonction de répartition\n",
    "\n",
    "\n",
    "b0 = q*S\n",
    "f = 1/b # densité uniforme\n",
    "funct = (b-h)*f  # Fonction de bien-être social\n",
    "welfare = integrate(funct, (b, (b0, B))) - q**2\n",
    "welfare\n",
    "# Find optimal values of q and S\n",
    "derive_q = Eq(welfare.diff(q))\n",
    "q_star = solve(derive_q, 0)[0]\n",
    "\n",
    "\n",
    "derive_s = Eq(welfare.diff(S))\n",
    "S_star = solve(derive_s, 0)[0]\n",
    "\n",
    "# optimum\n",
    "\n",
    "q0 = symbols ('qbar', real = True)\n",
    "S0 = symbols ('Sbar', real = True)\n",
    "\n",
    "derive_q.subs(S, S0)\n",
    "solve(derive_q.subs(S, S0))\n",
    "\n",
    "equa_S = Eq(S_star.subs(q,q0),0)\n",
    "equa_S\n",
    "\n",
    "S_opt = equa_S.subs(q, q0)\n",
    "solve(S_opt)"
   ]
  },
  {
   "cell_type": "markdown",
   "metadata": {
    "collapsed": false
   },
   "source": [
    "# fonction de densité exp\\(\\-b\\)\n",
    "\n"
   ]
  },
  {
   "cell_type": "code",
   "execution_count": 12,
   "metadata": {
    "collapsed": false
   },
   "outputs": [
    {
     "data": {
      "image/png": "[encoded data removed]",
      "text/latex": [
       "$\\displaystyle - q^{2} + \\left(- \\bar{b} + h - 1\\right) e^{- \\bar{b}} - \\left(- S q + h - 1\\right) e^{- S q}$"
      ],
      "text/plain": [
       "   2                 -b̅                   -S⋅q\n",
       "- q  + (-b̅ + h - 1)⋅ℯ   - (-S⋅q + h - 1)⋅ℯ    "
      ]
     },
     "execution_count": 12,
     "metadata": {
     },
     "output_type": "execute_result"
    },
    {
     "name": "stderr",
     "output_type": "stream",
     "text": [
      "/usr/local/lib/python3.8/dist-packages/sympy/core/relational.py:486: SymPyDeprecationWarning: \n",
      "\n",
      "Eq(expr) with rhs default to 0 has been deprecated since SymPy 1.5.\n",
      "Use Eq(expr, 0) instead. See\n",
      "https://github.com/sympy/sympy/issues/16587 for more info.\n",
      "\n",
      "  SymPyDeprecationWarning(\n"
     ]
    },
    {
     "data": {
      "image/png": "[encoded data removed]",
      "text/latex": [
       "$\\displaystyle - \\bar{S} \\left(\\bar{S} q - h + 1\\right) e^{- \\bar{S} q} + \\bar{S} e^{- \\bar{S} q} - 2 q = 0$"
      ],
      "text/plain": [
       "                   -S̅⋅q      -S̅⋅q          \n",
       "- S̅⋅(S̅⋅q - h + 1)⋅ℯ     + S̅⋅ℯ     - 2⋅q = 0"
      ]
     },
     "execution_count": 12,
     "metadata": {
     },
     "output_type": "execute_result"
    },
    {
     "data": {
      "image/png": "[encoded data removed]",
      "text/latex": [
       "$\\displaystyle \\left[ \\left\\{ h : \\frac{q \\left(\\bar{S}^{2} + 2 e^{\\bar{S} q}\\right)}{\\bar{S}}\\right\\}\\right]$"
      ],
      "text/plain": [
       "⎡⎧     ⎛ 2      S̅⋅q⎞⎫⎤\n",
       "⎢⎪   q⋅⎝S̅  + 2⋅ℯ   ⎠⎪⎥\n",
       "⎢⎨h: ───────────────⎬⎥\n",
       "⎢⎪          S̅      ⎪⎥\n",
       "⎣⎩                  ⎭⎦"
      ]
     },
     "execution_count": 12,
     "metadata": {
     },
     "output_type": "execute_result"
    },
    {
     "data": {
      "image/png": "[encoded data removed]",
      "text/latex": [
       "$\\displaystyle \\bar{q} \\left(S \\bar{q} - h\\right) e^{- S \\bar{q}} = 0$"
      ],
      "text/plain": [
       "             -S⋅q̅    \n",
       "q̅⋅(S⋅q̅ - h)⋅ℯ     = 0"
      ]
     },
     "execution_count": 12,
     "metadata": {
     },
     "output_type": "execute_result"
    },
    {
     "data": {
      "image/png": "[encoded data removed]",
      "text/latex": [
       "$\\displaystyle \\left[ \\left\\{ S : \\frac{h}{\\bar{q}}\\right\\}, \\  \\left\\{ \\bar{q} : 0\\right\\}\\right]$"
      ],
      "text/plain": [
       "⎡⎧   h⎫        ⎤\n",
       "⎢⎨S: ─⎬, {q̅: 0}⎥\n",
       "⎣⎩   q̅⎭        ⎦"
      ]
     },
     "execution_count": 12,
     "metadata": {
     },
     "output_type": "execute_result"
    }
   ],
   "source": [
    "from sympy import *\n",
    "from IPython.core.interactiveshell import InteractiveShell #print all elements, not only last one\n",
    "InteractiveShell.ast_node_interactivity = \"all\"\n",
    "init_printing(use_unicode=True)\n",
    "\n",
    "\n",
    "%matplotlib inline\n",
    "q, b, S, h, w, B, h0 = symbols('q, b, S, h, w, bbar, h0') # p : probabilité d'arrestation et de condamnation, b : bénéfice monétaire après avoir accompli le crime, S : sanction ou amende, h : préjudice, w : richesse de la victime\n",
    "EU1 = symbols('EU1', cls=Function)(q,b,S) # utilité attendue pour le délinquant\n",
    "EU2 = symbols ('EU2', cls=Function)(q,h,w) # Utilité attendue pour la victime\n",
    "#f = symbols ('f', cls = Function)(b) # fonction de densité de b\n",
    "C = symbols ('C', cls = Function)(q) # coût de l'appréhension et de la condamnation\n",
    "dF = symbols ('dF', cls = Function)(b)  # fonction cumulative ou fonction de répartition\n",
    "\n",
    "\n",
    "b0 = q*S\n",
    "f = exp(-b) # densité uniforme\n",
    "funct = (b-h)*f  # Fonction de bien-être social\n",
    "welfare = integrate(funct, (b, (b0, B))) - q**2\n",
    "welfare\n",
    "# Find optimal values of q and S\n",
    "derive_q = Eq(welfare.diff(q))\n",
    "q_star = solve(derive_q, 0)[0]\n",
    "\n",
    "\n",
    "derive_s = Eq(welfare.diff(S))\n",
    "S_star = solve(derive_s, 0)[0]\n",
    "\n",
    "# optimum\n",
    "\n",
    "q0 = symbols ('qbar', real = True)\n",
    "S0 = symbols ('Sbar', real = True)\n",
    "\n",
    "derive_q.subs(S, S0)\n",
    "solve(derive_q.subs(S, S0))\n",
    "\n",
    "equa_S = Eq(S_star.subs(q,q0),0)\n",
    "equa_S\n",
    "\n",
    "S_opt = equa_S.subs(q, q0)\n",
    "solve(S_opt)"
   ]
  },
  {
   "cell_type": "code",
   "execution_count": 0,
   "metadata": {
    "collapsed": false
   },
   "outputs": [
   ],
   "source": [
   ]
  }
 ],
 "metadata": {
  "kernelspec": {
   "display_name": "Python 3 (system-wide)",
   "language": "python",
   "metadata": {
    "cocalc": {
     "description": "Python 3 programming language",
     "priority": 100,
     "url": "https://www.python.org/"
    }
   },
   "name": "python3",
   "resource_dir": "/ext/jupyter/kernels/python3"
  }
 },
 "nbformat": 4,
 "nbformat_minor": 4
}