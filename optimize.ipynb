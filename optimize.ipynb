{
 "cells": [
  {
   "cell_type": "code",
   "execution_count": 1,
   "id": "5998c6ca",
   "metadata": {},
   "outputs": [],
   "source": [
    "from sympy import *\n",
    "from IPython.core.interactiveshell import InteractiveShell #print all elements, not only last one\n",
    "InteractiveShell.ast_node_interactivity = \"all\"\n",
    "init_printing(use_unicode=True)\n",
    "%matplotlib inline"
   ]
  },
  {
   "cell_type": "code",
   "execution_count": 2,
   "id": "be837800",
   "metadata": {},
   "outputs": [
    {
     "data": {
      "image/png": "[encoded data removed]",
      "text/latex": [
       "$\\displaystyle 2 x^{2} + 3 y^{2}$"
      ],
      "text/plain": [
       "   2      2\n",
       "2⋅x  + 3⋅y "
      ]
     },
     "execution_count": 2,
     "metadata": {},
     "output_type": "execute_result"
    },
    {
     "data": {
      "image/png": "[encoded data removed]",
      "text/latex": [
       "$\\displaystyle x^{2} + y^{2} - 4$"
      ],
      "text/plain": [
       " 2    2    \n",
       "x  + y  - 4"
      ]
     },
     "execution_count": 2,
     "metadata": {},
     "output_type": "execute_result"
    }
   ],
   "source": [
    "x, y = var('x,y',real=True);\n",
    "f = 2 * x**2 + 3 * y**2\n",
    "g = x**2 + y**2 - 4\n",
    "\n",
    "f\n",
    "g"
   ]
  },
  {
   "cell_type": "code",
   "execution_count": 3,
   "id": "c4caa9f9",
   "metadata": {},
   "outputs": [
    {
     "data": {
      "image/png": "[encoded data removed]",
      "text/latex": [
       "$\\displaystyle - \\lambda \\left(x^{2} + y^{2} - 4\\right) + 2 x^{2} + 3 y^{2}$"
      ],
      "text/plain": [
       "    ⎛ 2    2    ⎞      2      2\n",
       "- λ⋅⎝x  + y  - 4⎠ + 2⋅x  + 3⋅y "
      ]
     },
     "execution_count": 3,
     "metadata": {},
     "output_type": "execute_result"
    }
   ],
   "source": [
    "lam = symbols('lambda', real = True)\n",
    "L = f - lam* g\n",
    "L"
   ]
  },
  {
   "cell_type": "code",
   "execution_count": 4,
   "id": "e1a9bbe7",
   "metadata": {},
   "outputs": [
    {
     "data": {
      "image/png": "[encoded data removed]",
      "text/latex": [
       "$\\displaystyle \\left[ - 2 \\lambda x + 4 x, \\  - 2 \\lambda y + 6 y, \\  x^{2} + y^{2} - 4\\right]$"
      ],
      "text/plain": [
       "⎡                             2    2    ⎤\n",
       "⎣-2⋅λ⋅x + 4⋅x, -2⋅λ⋅y + 6⋅y, x  + y  - 4⎦"
      ]
     },
     "execution_count": 4,
     "metadata": {},
     "output_type": "execute_result"
    }
   ],
   "source": [
    "gradL = [diff(L,c) for c in [x,y]] # gradient of Lagrangian w.r.t. (x,y)\n",
    "KKT_eqs = gradL + [g]\n",
    "KKT_eqs"
   ]
  },
  {
   "cell_type": "code",
   "execution_count": 5,
   "id": "26816fd6",
   "metadata": {},
   "outputs": [
    {
     "data": {
      "image/png": "[encoded data removed]",
      "text/latex": [
       "$\\displaystyle \\left[ \\left\\{ \\lambda : 2, \\  x : -2, \\  y : 0\\right\\}, \\  \\left\\{ \\lambda : 2, \\  x : 2, \\  y : 0\\right\\}, \\  \\left\\{ \\lambda : 3, \\  x : 0, \\  y : -2\\right\\}, \\  \\left\\{ \\lambda : 3, \\  x : 0, \\  y : 2\\right\\}\\right]$"
      ],
      "text/plain": [
       "[{λ: 2, x: -2, y: 0}, {λ: 2, x: 2, y: 0}, {λ: 3, x: 0, y: -2}, {λ: 3, x: 0, y:\n",
       " 2}]"
      ]
     },
     "execution_count": 5,
     "metadata": {},
     "output_type": "execute_result"
    }
   ],
   "source": [
    "stationary_points = solve(KKT_eqs, [x, y, lam], dict=True) # solve the KKT equations\n",
    "stationary_points "
   ]
  },
  {
   "cell_type": "code",
   "execution_count": null,
   "id": "5db191dc",
   "metadata": {},
   "outputs": [],
   "source": []
  }
 ],
 "metadata": {
  "kernelspec": {
   "display_name": "Python 3",
   "language": "python",
   "name": "python3"
  },
  "language_info": {
   "codemirror_mode": {
    "name": "ipython",
    "version": 3
   },
   "file_extension": ".py",
   "mimetype": "text/x-python",
   "name": "python",
   "nbconvert_exporter": "python",
   "pygments_lexer": "ipython3",
   "version": "3.6.5"
  }
 },
 "nbformat": 4,
 "nbformat_minor": 5
}
