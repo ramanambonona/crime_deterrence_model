{
 "cells": [
  {
   "cell_type": "markdown",
   "metadata": {},
   "source": [
    "# Optimal Law Enforcement with python (deterrence model)\n",
    "The criminal sanction is an instrument for deterring illegal behavior. It penalizes individuals who break the law. In other words, the sanction is applied to those who commit the offence. The sanction can take two forms: monetary and non-monetary. \n",
    "\n",
    "In this workshop, we will first consider the monetary sanction, commonly called the fine. It is similar to a discouraging tool that takes the form of a monetary sanction.\n",
    "expected benefit if the offender is a risk-neutral individual\n",
    "The ideas developed revolve around the introduction of the fine as a deterrent to the offence aimed at forcing individuals to respect the law.  The fine has a specificity that allows to measure the degree of deterrence that the Authority in charge of law enforcement wishes to achieve through two determining variables: the effort of the control that constitutes a cost for the Law enforcer, and increases the probability of detecting an offender and the amount of the fine that translates into a monetary sanction imposed on the offender.\n",
    "According to Becker (1968), the optimal level of deterrence is the maximum fine, i.e. the equilibrium at which the fine is theoretically capable of deterring illegal acts.\n",
    "\n",
    "## Expected utility formula in Becker's canonical model\n",
    "$$ EU (b,q,S) = (1-q)b + q(b-S)$$\n",
    "After simplification,\n",
    "$$ EU (b,q,s) = b - qS$$\n",
    "with \\\n",
    "$q$ : probability of arrest and conviction\\\n",
    "$b$ : expected benefit from the illegal act\\\n",
    "$S$ : fine or monetary sanction\n",
    "## Expected benefit if the offender is a risk-neutral individual\n",
    "$$EU = 0$$\n",
    "$$⇒ b = qS$$ \n",
    "This equation means that if the benefit from the crime equals at least the expected punishment, the offender will commit the crime. This equation means that if the benefit from the crime is at least equal to the expected punishment, the offender will commit the crime. Otherwise, he will give up because he is deterred by the punishment\n"
   ]
  },
  {
   "cell_type": "code",
   "execution_count": 6,
   "metadata": {},
   "outputs": [],
   "source": [
    "from sympy import *\n",
    "from IPython.core.interactiveshell import InteractiveShell #print all elements, not only last one\n",
    "InteractiveShell.ast_node_interactivity = \"all\"\n",
    "init_printing(use_unicode=True)\n",
    "%matplotlib inline"
   ]
  },
  {
   "cell_type": "markdown",
   "metadata": {},
   "source": [
    "# Definition of functions and variables \n"
   ]
  },
  {
   "cell_type": "code",
   "execution_count": 10,
   "metadata": {},
   "outputs": [
    {
     "data": {
      "image/png": "[encoded data removed]",
      "text/latex": [
       "$\\displaystyle \\operatorname{EU_{1}}{\\left(q,b,s \\right)}$"
      ],
      "text/plain": [
       "EU₁(q, b, s)"
      ]
     },
     "execution_count": 10,
     "metadata": {},
     "output_type": "execute_result"
    },
    {
     "data": {
      "image/png": "[encoded data removed]",
      "text/latex": [
       "$\\displaystyle \\operatorname{EU_{2}}{\\left(q,h,w \\right)}$"
      ],
      "text/plain": [
       "EU₂(q, h, w)"
      ]
     },
     "execution_count": 10,
     "metadata": {},
     "output_type": "execute_result"
    },
    {
     "data": {
      "image/png": "[encoded data removed]",
      "text/latex": [
       "$\\displaystyle f{\\left(b \\right)}$"
      ],
      "text/plain": [
       "f(b)"
      ]
     },
     "execution_count": 10,
     "metadata": {},
     "output_type": "execute_result"
    },
    {
     "data": {
      "image/png": "[encoded data removed]",
      "text/latex": [
       "$\\displaystyle C{\\left(q \\right)}$"
      ],
      "text/plain": [
       "C(q)"
      ]
     },
     "execution_count": 10,
     "metadata": {},
     "output_type": "execute_result"
    }
   ],
   "source": [
    "q, b, S, h, w, B, h0 = symbols('q, b, s, h, w, bbar, h0') # p : probability of arrest and conviction, b : monetary benefit after accomplishing crime, S : sanction or fine, h : harm, w : victim's wealth\n",
    "EU1 = symbols('EU1', cls=Function)(q,b,S) # expected utility for the offender\n",
    "EU2 = symbols ('EU2', cls=Function)(q,h,w) # Expected utility for the victim\n",
    "f = symbols ('f', cls = Function)(b) # density function of b\n",
    "C = symbols ('C', cls = Function)(q) # cost of apprehension and conviction\n",
    "dF = symbols ('dF', cls = Function)(b) # cumulative function\n",
    "b0 = symbols ('b0', cls = Function)(q,s) # monetary benefit expected\n",
    "\n",
    "EU1\n",
    "EU2\n",
    "f\n",
    "C"
   ]
  },
  {
   "cell_type": "code",
   "execution_count": 11,
   "metadata": {},
   "outputs": [],
   "source": [
    "def EU1(q, b=b, S=S):\n",
    "    return (1-q)*b + q*(b-S)\n",
    "\n",
    "def EU2(q, w=w, h =h):\n",
    "    return (1-q)*(w -h) + q*w\n",
    "\n",
    "def b_expected(S=S, q=q) :\n",
    "    return q*S"
   ]
  },
  {
   "cell_type": "markdown",
   "metadata": {},
   "source": [
    "# Marginal cost of apprehension and conviction"
   ]
  },
  {
   "cell_type": "code",
   "execution_count": 15,
   "metadata": {},
   "outputs": [
    {
     "data": {
      "image/png": "[encoded data removed]",
      "text/latex": [
       "$\\displaystyle \\frac{d}{d q} C{\\left(q \\right)}$"
      ],
      "text/plain": [
       "d       \n",
       "──(C(q))\n",
       "dq      "
      ]
     },
     "execution_count": 15,
     "metadata": {},
     "output_type": "execute_result"
    }
   ],
   "source": [
    "# marginal cost of apprehension and conviction\n",
    "c_m = C.diff(q)\n",
    "c_m"
   ]
  },
  {
   "cell_type": "code",
   "execution_count": 16,
   "metadata": {},
   "outputs": [
    {
     "data": {
      "image/png": "[encoded data removed]",
      "text/latex": [
       "$\\displaystyle - s$"
      ],
      "text/plain": [
       "-s"
      ]
     },
     "execution_count": 16,
     "metadata": {},
     "output_type": "execute_result"
    },
    {
     "data": {
      "image/png": "[encoded data removed]",
      "text/latex": [
       "$\\displaystyle - q$"
      ],
      "text/plain": [
       "-q"
      ]
     },
     "execution_count": 16,
     "metadata": {},
     "output_type": "execute_result"
    }
   ],
   "source": [
    "q_m = EU1(q, b, S).diff(q)\n",
    "s_m = EU1(q, b, S).diff(S)\n",
    "q_m\n",
    "s_m"
   ]
  },
  {
   "cell_type": "markdown",
   "metadata": {},
   "source": [
    "# Expected benefit if the offender is a risk-neutral individual"
   ]
  },
  {
   "cell_type": "code",
   "execution_count": 17,
   "metadata": {},
   "outputs": [
    {
     "data": {
      "image/png": "[encoded data removed]",
      "text/latex": [
       "$\\displaystyle b - q s = 0$"
      ],
      "text/plain": [
       "b - q⋅s = 0"
      ]
     },
     "execution_count": 17,
     "metadata": {},
     "output_type": "execute_result"
    },
    {
     "data": {
      "image/png": "[encoded data removed]",
      "text/latex": [
       "$\\displaystyle b = q s$"
      ],
      "text/plain": [
       "b = q⋅s"
      ]
     },
     "execution_count": 17,
     "metadata": {},
     "output_type": "execute_result"
    }
   ],
   "source": [
    "# for an individual risk neutral E(p,b,S)=0, we get the follow result, and to found \"b\" expected, we solve the equation E = 0\n",
    "EU1 = (1-q)*b + q*(b-S)\n",
    "eq1 = Eq(simplify(EU1), 0)\n",
    "eq1\n",
    "b_expect = solve(eq1,b)[0]\n",
    "eq2 = Eq(b, b_expect)\n",
    "eq2"
   ]
  },
  {
   "cell_type": "markdown",
   "metadata": {},
   "source": [
    "# Welfare"
   ]
  },
  {
   "cell_type": "code",
   "execution_count": 18,
   "metadata": {},
   "outputs": [
    {
     "data": {
      "image/png": "[encoded data removed]",
      "text/latex": [
       "$\\displaystyle - C{\\left(q \\right)} + \\int\\limits_{q s}^{\\bar{b}} \\left(b - h\\right) f{\\left(b \\right)}\\, db$"
      ],
      "text/plain": [
       "         b̅                \n",
       "         ⌠                 \n",
       "-C(q) +  ⎮  (b - h)⋅f(b) db\n",
       "         ⌡                 \n",
       "        q⋅s                "
      ]
     },
     "execution_count": 18,
     "metadata": {},
     "output_type": "execute_result"
    },
    {
     "data": {
      "image/png": "[encoded data removed]",
      "text/latex": [
       "$\\displaystyle \\tilde{b} s f{\\left(\\tilde{b} \\right)} - h s f{\\left(\\tilde{b} \\right)} + \\frac{d}{d q} C{\\left(q \\right)} = 0$"
      ],
      "text/plain": [
       "                      d           \n",
       "b̃⋅s⋅f(b̃) - h⋅s⋅f(b̃) + ──(C(q)) = 0\n",
       "                      dq          "
      ]
     },
     "execution_count": 18,
     "metadata": {},
     "output_type": "execute_result"
    },
    {
     "data": {
      "image/png": "[encoded data removed]",
      "text/latex": [
       "$\\displaystyle q \\left(- h + q s\\right) f{\\left(q s \\right)}$"
      ],
      "text/plain": [
       "q⋅(-h + q⋅s)⋅f(q⋅s)"
      ]
     },
     "execution_count": 18,
     "metadata": {},
     "output_type": "execute_result"
    },
    {
     "data": {
      "image/png": "[encoded data removed]",
      "text/latex": [
       "$\\displaystyle q \\left(\\tilde{b} - h\\right) f{\\left(\\tilde{b} \\right)} = 0$"
      ],
      "text/plain": [
       "q⋅(b̃ - h)⋅f(b̃) = 0"
      ]
     },
     "execution_count": 18,
     "metadata": {},
     "output_type": "execute_result"
    }
   ],
   "source": [
    "# welfare\n",
    "b0 = q*S\n",
    "funct = (b-h)*f # welfare function\n",
    "welfare = integrate(funct, (b, (b0, B))) - C\n",
    "welfare\n",
    "\n",
    "\n",
    "derive_q = Eq(welfare.diff(q)) # derivative with respect to p\n",
    "q_star = solve(derive_q, 0) [0]\n",
    "\n",
    "equa_q = Eq(factor(q_star),0)\n",
    "equa_q.subs(q*S,'btilde')\n",
    "\n",
    "derive_s = Eq(welfare.diff(S)) # derivative with respect to q\n",
    "S_star = solve(derive_s, 0) [0]\n",
    "S_star\n",
    "equa_S = Eq(factor(S_star),0)\n",
    "equa_S.subs(q*S,'btilde')"
   ]
  },
  {
   "cell_type": "code",
   "execution_count": 19,
   "metadata": {},
   "outputs": [
    {
     "data": {
      "image/png": "[encoded data removed]",
      "text/latex": [
       "$\\displaystyle - \\bar{S} \\left(\\bar{S} q - h\\right) f{\\left(\\bar{S} q \\right)} - \\frac{d}{d q} C{\\left(q \\right)} = 0$"
      ],
      "text/plain": [
       "                      d           \n",
       "-S̅⋅(S̅⋅q - h)⋅f(S̅⋅q) - ──(C(q)) = 0\n",
       "                      dq          "
      ]
     },
     "execution_count": 19,
     "metadata": {},
     "output_type": "execute_result"
    },
    {
     "data": {
      "image/png": "[encoded data removed]",
      "text/latex": [
       "$\\displaystyle \\left[ \\left\\{ h : \\bar{S} q + \\frac{\\frac{d}{d q} C{\\left(q \\right)}}{\\bar{S} f{\\left(\\bar{S} q \\right)}}\\right\\}\\right]$"
      ],
      "text/plain": [
       "⎡⎧         d       ⎫⎤\n",
       "⎢⎪         ──(C(q))⎪⎥\n",
       "⎢⎨         dq      ⎬⎥\n",
       "⎢⎪h: S̅⋅q + ────────⎪⎥\n",
       "⎣⎩         S̅⋅f(S̅⋅q)⎭⎦"
      ]
     },
     "execution_count": 19,
     "metadata": {},
     "output_type": "execute_result"
    },
    {
     "data": {
      "image/png": "[encoded data removed]",
      "text/latex": [
       "$\\displaystyle \\bar{q} \\left(- h + \\bar{q} s\\right) f{\\left(\\bar{q} s \\right)} = 0$"
      ],
      "text/plain": [
       "q̅⋅(-h + q̅⋅s)⋅f(q̅⋅s) = 0"
      ]
     },
     "execution_count": 19,
     "metadata": {},
     "output_type": "execute_result"
    },
    {
     "data": {
      "image/png": "[encoded data removed]",
      "text/latex": [
       "$\\displaystyle \\left[ \\left\\{ h : \\bar{q} s\\right\\}\\right]$"
      ],
      "text/plain": [
       "[{h: q̅⋅s}]"
      ]
     },
     "execution_count": 19,
     "metadata": {},
     "output_type": "execute_result"
    }
   ],
   "source": [
    "# optimum\n",
    "\n",
    "q0 = symbols ('qbar', real = True)\n",
    "S0 = symbols ('Sbar', real = True)\n",
    "\n",
    "derive_q.subs(S, S0)\n",
    "solve(derive_q.subs(S, S0))\n",
    "\n",
    "equa_S = Eq(S_star.subs(q,q0),0)\n",
    "equa_S\n",
    "\n",
    "S_opt = equa_S.subs(q, q0)\n",
    "solve(S_opt)\n"
   ]
  },
  {
   "cell_type": "markdown",
   "metadata": {},
   "source": [
    "# Sample application"
   ]
  },
  {
   "cell_type": "code",
   "execution_count": 20,
   "metadata": {},
   "outputs": [
    {
     "data": {
      "image/png": "[encoded data removed]",
      "text/latex": [
       "$\\displaystyle \\frac{1}{e^{1 - 0.1 s} + 1}$"
      ],
      "text/plain": [
       "      1       \n",
       "──────────────\n",
       " 1 - 0.1⋅s    \n",
       "ℯ          + 1"
      ]
     },
     "execution_count": 20,
     "metadata": {},
     "output_type": "execute_result"
    },
    {
     "data": {
      "image/png": "[encoded data removed]",
      "text/plain": [
       "<Figure size 432x288 with 1 Axes>"
      ]
     },
     "metadata": {
      "needs_background": "light"
     },
     "output_type": "display_data"
    },
    {
     "data": {
      "text/plain": [
       "<sympy.plotting.plot.Plot at 0x11ff9df0>"
      ]
     },
     "execution_count": 20,
     "metadata": {},
     "output_type": "execute_result"
    }
   ],
   "source": [
    "import numpy\n",
    "import scipy.signal\n",
    "import scipy.optimize\n",
    "import matplotlib.pyplot as plt\n",
    "%matplotlib inline\n",
    "p = 0.1\n",
    "F = 1/(1+exp(1 - p*S))\n",
    "F\n",
    "f = F.diff(S)\n",
    "\n",
    "plot(F, (S,0, 100))\n"
   ]
  }
 ],
 "metadata": {
  "celltoolbar": "Aucun(e)",
  "kernelspec": {
   "display_name": "Python 3",
   "language": "python",
   "name": "python3"
  },
  "language_info": {
   "codemirror_mode": {
    "name": "ipython",
    "version": 3
   },
   "file_extension": ".py",
   "mimetype": "text/x-python",
   "name": "python",
   "nbconvert_exporter": "python",
   "pygments_lexer": "ipython3",
   "version": "3.6.5"
  }
 },
 "nbformat": 4,
 "nbformat_minor": 2
}
