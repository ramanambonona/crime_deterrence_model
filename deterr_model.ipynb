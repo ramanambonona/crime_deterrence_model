{
 "cells": [
  {
   "cell_type": "markdown",
   "metadata": {},
   "source": [
    "# Optimal Law Enforcement with python (deterrence model)\n",
    "The criminal sanction is an instrument for deterring illegal behavior. It penalizes individuals who break the law. In other words, the sanction is applied to those who commit the offence. The sanction can take two forms: monetary and non-monetary. \n",
    "\n",
    "In this workshop, we will first consider the monetary sanction, commonly called the fine. It is similar to a discouraging tool that takes the form of a monetary sanction.\n",
    "expected benefit if the offender is a risk-neutral individual\n",
    "The ideas developed revolve around the introduction of the fine as a deterrent to the offence aimed at forcing individuals to respect the law.  The fine has a specificity that allows to measure the degree of deterrence that the Authority in charge of law enforcement wishes to achieve through two determining variables: the effort of the control that constitutes a cost for the Law enforcer, and increases the probability of detecting an offender and the amount of the fine that translates into a monetary sanction imposed on the offender.\n",
    "According to Becker (1968), the optimal level of deterrence is the maximum fine, i.e. the equilibrium at which the fine is theoretically capable of deterring illegal acts.\n",
    "\n",
    "## Expected utility formula in Becker's canonical model\n",
    "$$ EU (b,q,S) = (1-q)b + q(b-S)$$\n",
    "After simplification,\n",
    "$$ EU (b,q,s) = b - qS$$\n",
    "with \\\n",
    "$q$ : probability of arrest and conviction\\\n",
    "$b$ : expected benefit from the illegal act\\\n",
    "$S$ : fine or monetary sanction\n",
    "## Expected benefit if the offender is a risk-neutral individual\n",
    "$$EU = 0$$\n",
    "$$⇒ b = qS$$ \n",
    "This equation means that if the benefit from the crime equals at least the expected punishment, the offender will commit the crime. This equation means that if the benefit from the crime is at least equal to the expected punishment, the offender will commit the crime. Otherwise, he will give up because he is deterred by the punishment\n"
   ]
  },
  {
   "cell_type": "code",
   "execution_count": 1,
   "metadata": {},
   "outputs": [],
   "source": [
    "from sympy import *\n",
    "from IPython.core.interactiveshell import InteractiveShell #print all elements, not only last one\n",
    "InteractiveShell.ast_node_interactivity = \"all\"\n",
    "init_printing(use_unicode=True)\n",
    "%matplotlib inline"
   ]
  },
  {
   "cell_type": "markdown",
   "metadata": {},
   "source": [
    "# Definition of functions and variables \n"
   ]
  },
  {
   "cell_type": "code",
   "execution_count": 2,
   "metadata": {},
   "outputs": [
    {
     "data": {
      "image/png": "[encoded data removed]",
      "text/latex": [
       "$\\displaystyle \\operatorname{EU_{1}}{\\left(q,b,S \\right)}$"
      ],
      "text/plain": [
       "EU₁(q, b, S)"
      ]
     },
     "execution_count": 2,
     "metadata": {},
     "output_type": "execute_result"
    },
    {
     "data": {
      "image/png": "[encoded data removed]",
      "text/latex": [
       "$\\displaystyle \\operatorname{EU_{2}}{\\left(q,h,w \\right)}$"
      ],
      "text/plain": [
       "EU₂(q, h, w)"
      ]
     },
     "execution_count": 2,
     "metadata": {},
     "output_type": "execute_result"
    },
    {
     "data": {
      "image/png": "[encoded data removed]",
      "text/latex": [
       "$\\displaystyle f{\\left(b \\right)}$"
      ],
      "text/plain": [
       "f(b)"
      ]
     },
     "execution_count": 2,
     "metadata": {},
     "output_type": "execute_result"
    },
    {
     "data": {
      "image/png": "[encoded data removed]",
      "text/latex": [
       "$\\displaystyle C{\\left(q \\right)}$"
      ],
      "text/plain": [
       "C(q)"
      ]
     },
     "execution_count": 2,
     "metadata": {},
     "output_type": "execute_result"
    }
   ],
   "source": [
    "q, b, S, h, w, B, h0 = symbols('q, b, S, h, w, bbar, h0') # p : probability of arrest and conviction, b : monetary benefit after accomplishing crime, S : sanction or fine, h : harm, w : victim's wealth\n",
    "EU1 = symbols('EU1', cls=Function)(q,b,S) # expected utility for the offender\n",
    "EU2 = symbols ('EU2', cls=Function)(q,h,w) # Expected utility for the victim\n",
    "f = symbols ('f', cls = Function)(b) # density function of b\n",
    "C = symbols ('C', cls = Function)(q) # cost of apprehension and conviction\n",
    "dF = symbols ('dF', cls = Function)(b) # cumulative function\n",
    "b0 = symbols ('b0', cls = Function)(q,S) # monetary benefit expected\n",
    "\n",
    "EU1\n",
    "EU2\n",
    "f\n",
    "C"
   ]
  },
  {
   "cell_type": "code",
   "execution_count": 3,
   "metadata": {},
   "outputs": [],
   "source": [
    "def EU1(q, b=b, S=S):\n",
    "    return (1-q)*b + q*(b-S)\n",
    "\n",
    "def EU2(q, w=w, h =h):\n",
    "    return (1-q)*(w -h) + q*w\n",
    "\n",
    "def b_expected(S=S, q=q) :\n",
    "    return q*S"
   ]
  },
  {
   "cell_type": "markdown",
   "metadata": {},
   "source": [
    "# Marginal cost of apprehension and conviction"
   ]
  },
  {
   "cell_type": "code",
   "execution_count": 4,
   "metadata": {},
   "outputs": [
    {
     "data": {
      "image/png": "[encoded data removed]",
      "text/latex": [
       "$\\displaystyle \\frac{d}{d q} C{\\left(q \\right)}$"
      ],
      "text/plain": [
       "d       \n",
       "──(C(q))\n",
       "dq      "
      ]
     },
     "execution_count": 4,
     "metadata": {},
     "output_type": "execute_result"
    }
   ],
   "source": [
    "# marginal cost of apprehension and conviction\n",
    "c_m = C.diff(q)\n",
    "c_m"
   ]
  },
  {
   "cell_type": "code",
   "execution_count": 5,
   "metadata": {},
   "outputs": [
    {
     "data": {
      "image/png": "[encoded data removed]",
      "text/latex": [
       "$\\displaystyle - S$"
      ],
      "text/plain": [
       "-S"
      ]
     },
     "execution_count": 5,
     "metadata": {},
     "output_type": "execute_result"
    },
    {
     "data": {
      "image/png": "[encoded data removed]",
      "text/latex": [
       "$\\displaystyle - q$"
      ],
      "text/plain": [
       "-q"
      ]
     },
     "execution_count": 5,
     "metadata": {},
     "output_type": "execute_result"
    },
    {
     "data": {
      "image/png": "[encoded data removed]",
      "text/latex": [
       "$\\displaystyle 1$"
      ],
      "text/plain": [
       "1"
      ]
     },
     "execution_count": 5,
     "metadata": {},
     "output_type": "execute_result"
    }
   ],
   "source": [
    "q_m = EU1(q, b, S).diff(q)\n",
    "s_m = EU1(q, b, S).diff(S)\n",
    "b_m = EU1(q, b, S).diff(b)\n",
    "q_m\n",
    "s_m\n",
    "b_m"
   ]
  },
  {
   "cell_type": "markdown",
   "metadata": {},
   "source": [
    "# Expected benefit if the offender is a risk-neutral individual"
   ]
  },
  {
   "cell_type": "code",
   "execution_count": 6,
   "metadata": {},
   "outputs": [
    {
     "data": {
      "image/png": "[encoded data removed]",
      "text/latex": [
       "$\\displaystyle - S q + b = 0$"
      ],
      "text/plain": [
       "-S⋅q + b = 0"
      ]
     },
     "execution_count": 6,
     "metadata": {},
     "output_type": "execute_result"
    },
    {
     "data": {
      "image/png": "[encoded data removed]",
      "text/latex": [
       "$\\displaystyle b = S q$"
      ],
      "text/plain": [
       "b = S⋅q"
      ]
     },
     "execution_count": 6,
     "metadata": {},
     "output_type": "execute_result"
    }
   ],
   "source": [
    "# for an individual risk neutral E(p,b,S)=0, we get the follow result, and to found \"b\" expected, we solve the equation E = 0\n",
    "EU1 = (1-q)*b + q*(b-S)\n",
    "eq1 = Eq(simplify(EU1), 0)\n",
    "eq1\n",
    "b_expect = solve(eq1,b)[0]\n",
    "eq2 = Eq(b, b_expect)\n",
    "eq2"
   ]
  },
  {
   "cell_type": "markdown",
   "metadata": {},
   "source": [
    "# Welfare"
   ]
  },
  {
   "cell_type": "code",
   "execution_count": 7,
   "metadata": {},
   "outputs": [
    {
     "data": {
      "image/png": "[encoded data removed]",
      "text/latex": [
       "$\\displaystyle - C{\\left(q \\right)} + \\int\\limits_{S q}^{\\bar{b}} \\left(b - h\\right) f{\\left(b \\right)}\\, db$"
      ],
      "text/plain": [
       "         b̅                \n",
       "         ⌠                 \n",
       "-C(q) +  ⎮  (b - h)⋅f(b) db\n",
       "         ⌡                 \n",
       "        S⋅q                "
      ]
     },
     "execution_count": 7,
     "metadata": {},
     "output_type": "execute_result"
    },
    {
     "name": "stderr",
     "output_type": "stream",
     "text": [
      "C:\\Users\\raletso\\AppData\\Local\\Programs\\Python\\Python36-32\\lib\\site-packages\\sympy\\core\\relational.py:499: SymPyDeprecationWarning: \n",
      "\n",
      "Eq(expr) with rhs default to 0 has been deprecated since SymPy 1.5.\n",
      "Use Eq(expr, 0) instead. See\n",
      "https://github.com/sympy/sympy/issues/16587 for more info.\n",
      "\n",
      "  deprecated_since_version=\"1.5\"\n"
     ]
    },
    {
     "data": {
      "image/png": "[encoded data removed]",
      "text/latex": [
       "$\\displaystyle S \\tilde{b} f{\\left(\\tilde{b} \\right)} - S h f{\\left(\\tilde{b} \\right)} + \\frac{d}{d q} C{\\left(q \\right)} = 0$"
      ],
      "text/plain": [
       "                      d           \n",
       "S⋅b̃⋅f(b̃) - S⋅h⋅f(b̃) + ──(C(q)) = 0\n",
       "                      dq          "
      ]
     },
     "execution_count": 7,
     "metadata": {},
     "output_type": "execute_result"
    },
    {
     "data": {
      "image/png": "[encoded data removed]",
      "text/latex": [
       "$\\displaystyle q \\left(S q - h\\right) f{\\left(S q \\right)}$"
      ],
      "text/plain": [
       "q⋅(S⋅q - h)⋅f(S⋅q)"
      ]
     },
     "execution_count": 7,
     "metadata": {},
     "output_type": "execute_result"
    },
    {
     "data": {
      "image/png": "[encoded data removed]",
      "text/latex": [
       "$\\displaystyle q \\left(\\tilde{b} - h\\right) f{\\left(\\tilde{b} \\right)} = 0$"
      ],
      "text/plain": [
       "q⋅(b̃ - h)⋅f(b̃) = 0"
      ]
     },
     "execution_count": 7,
     "metadata": {},
     "output_type": "execute_result"
    }
   ],
   "source": [
    "# welfare\n",
    "b0 = q*S\n",
    "funct = (b-h)*f # welfare function\n",
    "welfare = integrate(funct, (b, (b0, B))) - C\n",
    "welfare\n",
    "\n",
    "\n",
    "derive_q = Eq(welfare.diff(q)) # derivative with respect to q\n",
    "q_star = solve(derive_q, 0) [0]\n",
    "\n",
    "equa_q = Eq(factor(q_star),0)\n",
    "equa_q.subs(q*S,'btilde')\n",
    "\n",
    "derive_s = Eq(welfare.diff(S)) # derivative with respect to S\n",
    "S_star = solve(derive_s, 0) [0]\n",
    "S_star\n",
    "equa_S = Eq(factor(S_star),0)\n",
    "equa_S.subs(q*S,'btilde')"
   ]
  },
  {
   "cell_type": "code",
   "execution_count": 8,
   "metadata": {},
   "outputs": [
    {
     "data": {
      "image/png": "[encoded data removed]",
      "text/latex": [
       "$\\displaystyle - \\bar{S} \\left(\\bar{S} q - h\\right) f{\\left(\\bar{S} q \\right)} - \\frac{d}{d q} C{\\left(q \\right)} = 0$"
      ],
      "text/plain": [
       "                      d           \n",
       "-S̅⋅(S̅⋅q - h)⋅f(S̅⋅q) - ──(C(q)) = 0\n",
       "                      dq          "
      ]
     },
     "execution_count": 8,
     "metadata": {},
     "output_type": "execute_result"
    },
    {
     "data": {
      "image/png": "[encoded data removed]",
      "text/latex": [
       "$\\displaystyle \\left[ \\left\\{ h : \\bar{S} q + \\frac{\\frac{d}{d q} C{\\left(q \\right)}}{\\bar{S} f{\\left(\\bar{S} q \\right)}}\\right\\}\\right]$"
      ],
      "text/plain": [
       "⎡⎧         d       ⎫⎤\n",
       "⎢⎪         ──(C(q))⎪⎥\n",
       "⎢⎨         dq      ⎬⎥\n",
       "⎢⎪h: S̅⋅q + ────────⎪⎥\n",
       "⎣⎩         S̅⋅f(S̅⋅q)⎭⎦"
      ]
     },
     "execution_count": 8,
     "metadata": {},
     "output_type": "execute_result"
    },
    {
     "data": {
      "image/png": "[encoded data removed]",
      "text/latex": [
       "$\\displaystyle \\bar{q} \\left(S \\bar{q} - h\\right) f{\\left(S \\bar{q} \\right)} = 0$"
      ],
      "text/plain": [
       "q̅⋅(S⋅q̅ - h)⋅f(S⋅q̅) = 0"
      ]
     },
     "execution_count": 8,
     "metadata": {},
     "output_type": "execute_result"
    },
    {
     "data": {
      "image/png": "[encoded data removed]",
      "text/latex": [
       "$\\displaystyle \\left[ \\left\\{ h : S \\bar{q}\\right\\}\\right]$"
      ],
      "text/plain": [
       "[{h: S⋅q̅}]"
      ]
     },
     "execution_count": 8,
     "metadata": {},
     "output_type": "execute_result"
    }
   ],
   "source": [
    "# optimum\n",
    "\n",
    "q0 = symbols ('qbar', real = True)\n",
    "S0 = symbols ('Sbar', real = True)\n",
    "\n",
    "derive_q.subs(S, S0)\n",
    "solve(derive_q.subs(S, S0))\n",
    "\n",
    "equa_S = Eq(S_star.subs(q,q0),0)\n",
    "equa_S\n",
    "\n",
    "S_opt = equa_S.subs(q, q0)\n",
    "solve(S_opt)"
   ]
  },
  {
   "cell_type": "markdown",
   "metadata": {},
   "source": [
    "# Sample application"
   ]
  },
  {
   "cell_type": "code",
   "execution_count": 9,
   "metadata": {},
   "outputs": [
    {
     "data": {
      "image/png": "[encoded data removed]",
      "text/latex": [
       "$\\displaystyle \\frac{1}{e^{1 - 0.1 S} + 1}$"
      ],
      "text/plain": [
       "      1       \n",
       "──────────────\n",
       " 1 - 0.1⋅S    \n",
       "ℯ          + 1"
      ]
     },
     "execution_count": 9,
     "metadata": {},
     "output_type": "execute_result"
    },
    {
     "data": {
      "image/png": "[encoded data removed]",
      "text/latex": [
       "$\\displaystyle \\frac{0.1 e^{1 - 0.1 S}}{\\left(e^{1 - 0.1 S} + 1\\right)^{2}}$"
      ],
      "text/plain": [
       "       1 - 0.1⋅S \n",
       "  0.1⋅ℯ          \n",
       "─────────────────\n",
       "                2\n",
       "⎛ 1 - 0.1⋅S    ⎞ \n",
       "⎝ℯ          + 1⎠ "
      ]
     },
     "execution_count": 9,
     "metadata": {},
     "output_type": "execute_result"
    }
   ],
   "source": [
    "import numpy\n",
    "import scipy.signal\n",
    "import scipy.optimize\n",
    "import matplotlib.pyplot as plt\n",
    "from matplotlib import rc\n",
    "from scipy.integrate import odeint\n",
    "%matplotlib inline\n",
    "# Use LaTeX throughout the figure for consistency\n",
    "#rc('font', **{'family': 'serif', 'serif': ['Helvetca'], 'size': 12}) # u cane usetex package if your version can support\n",
    "#rc('text', usetex=True)\n",
    "\n",
    "q= 0.1\n",
    "F = 1/(1+exp(1 - q*S)) # cumulative function of crime' benefit, b =qS, q fixed, our example is a cumulative function logistic\n",
    "F\n",
    "f = F.diff(S) # denstity function -logistic of benefit of crime b = qS\n",
    "f"
   ]
  },
  {
   "cell_type": "code",
   "execution_count": 10,
   "metadata": {},
   "outputs": [
    {
     "data": {
      "image/png": "[encoded data removed]",
      "text/plain": [
       "<Figure size 432x288 with 1 Axes>"
      ]
     },
     "metadata": {
      "needs_background": "light"
     },
     "output_type": "display_data"
    },
    {
     "data": {
      "text/plain": [
       "<sympy.plotting.plot.Plot at 0xc01a150>"
      ]
     },
     "execution_count": 10,
     "metadata": {},
     "output_type": "execute_result"
    }
   ],
   "source": [
    "plot(f, (S,0, 100))\n"
   ]
  },
  {
   "cell_type": "code",
   "execution_count": 11,
   "metadata": {},
   "outputs": [
    {
     "data": {
      "text/plain": [
       "[<matplotlib.lines.Line2D at 0x12ea6490>]"
      ]
     },
     "execution_count": 11,
     "metadata": {},
     "output_type": "execute_result"
    },
    {
     "data": {
      "text/plain": [
       "[<matplotlib.lines.Line2D at 0x12ea6810>]"
      ]
     },
     "execution_count": 11,
     "metadata": {},
     "output_type": "execute_result"
    },
    {
     "data": {
      "text/plain": [
       "[<matplotlib.lines.Line2D at 0x12ea6b70>]"
      ]
     },
     "execution_count": 11,
     "metadata": {},
     "output_type": "execute_result"
    },
    {
     "data": {
      "image/png": "[encoded data removed]",
      "text/latex": [
       "$\\displaystyle \\left( 0, \\  1\\right)$"
      ],
      "text/plain": [
       "(0, 1)"
      ]
     },
     "execution_count": 11,
     "metadata": {},
     "output_type": "execute_result"
    },
    {
     "data": {
      "image/png": "[encoded data removed]",
      "text/latex": [
       "$\\displaystyle \\left( 0, \\  25000\\right)$"
      ],
      "text/plain": [
       "(0, 25000)"
      ]
     },
     "execution_count": 11,
     "metadata": {},
     "output_type": "execute_result"
    },
    {
     "data": {
      "text/plain": [
       "Text(0.5,0,\"Probabilité d'arrestation et de punition\")"
      ]
     },
     "execution_count": 11,
     "metadata": {},
     "output_type": "execute_result"
    },
    {
     "data": {
      "text/plain": [
       "Text(0,0.5,'Benefice du crime')"
      ]
     },
     "execution_count": 11,
     "metadata": {},
     "output_type": "execute_result"
    },
    {
     "data": {
      "image/png": "[encoded data removed]",
      "text/plain": [
       "<Figure size 432x288 with 1 Axes>"
      ]
     },
     "metadata": {
      "needs_background": "light"
     },
     "output_type": "display_data"
    }
   ],
   "source": [
    "import numpy as np\n",
    "#sanction fixe\n",
    "S0= 10\n",
    "h0 = 10\n",
    "p = np.arange(0, 1, 0.01)\n",
    "\n",
    "b0 = 1000000*(p*np.exp(-p*S0))/(np.exp(-p*S0)+1)**2\n",
    "\n",
    "S1= 20\n",
    "h1 = 20\n",
    "b1 = 1000000*(p*np.exp(-p*S1))/(np.exp(-p*S1)+1)**2\n",
    "\n",
    "S2= 30\n",
    "h=30\n",
    "b2 = 1000000*(p*np.exp(-p*S2))/(np.exp(-p*S2)+1)**2\n",
    "\n",
    "#p = [p for p in range (0, 1)] # axe des abscises\n",
    "\n",
    "#plt.axhline(y=7500, color=\"black\", linestyle=\"--\")\n",
    "#plt.axhline(y=12500, color=\"black\", linestyle=\"--\")\n",
    "#plt.axhline(y=22500, color=\"black\", linestyle=\"--\")\n",
    "#plt.axvline(color=\"grey\")\n",
    "plt.plot(p, b0, label='$Santion = 10$')\n",
    "plt.plot(p, b1, label='$Sanction = 20$')\n",
    "plt.plot(p, b2, label='$Sanction = 30$')\n",
    "plt.xlim(0 , 1)\n",
    "plt.ylim(0, 25000)\n",
    "plt.xlabel(\"Probabilité d'arrestation et de punition\")\n",
    "plt.ylabel(\"Benefice du crime\")\n",
    "#plt.legend(fontsize=14)\n",
    "plt.show()"
   ]
  },
  {
   "cell_type": "code",
   "execution_count": null,
   "metadata": {},
   "outputs": [],
   "source": []
  }
 ],
 "metadata": {
  "celltoolbar": "Aucun(e)",
  "kernelspec": {
   "display_name": "Python 3",
   "language": "python",
   "name": "python3"
  },
  "language_info": {
   "codemirror_mode": {
    "name": "ipython",
    "version": 3
   },
   "file_extension": ".py",
   "mimetype": "text/x-python",
   "name": "python",
   "nbconvert_exporter": "python",
   "pygments_lexer": "ipython3",
   "version": "3.6.5"
  }
 },
 "nbformat": 4,
 "nbformat_minor": 2
}
