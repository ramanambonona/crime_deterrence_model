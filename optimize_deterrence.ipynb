{
 "cells": [
  {
   "cell_type": "code",
   "execution_count": 1,
   "id": "e786e61e",
   "metadata": {},
   "outputs": [],
   "source": [
    "from sympy import *\n",
    "from IPython.core.interactiveshell import InteractiveShell #print all elements, not only last one\n",
    "InteractiveShell.ast_node_interactivity = \"all\"\n",
    "init_printing(use_unicode=True)\n",
    "%matplotlib inline"
   ]
  },
  {
   "cell_type": "code",
   "execution_count": 4,
   "id": "7cac2cfe",
   "metadata": {},
   "outputs": [
    {
     "data": {
      "image/png": "[encoded data removed]",
      "text/latex": [
       "$\\displaystyle - C{\\left(q \\right)} + \\int\\limits_{q s}^{\\bar{b}} \\left(b - h\\right) f{\\left(b \\right)}\\, db$"
      ],
      "text/plain": [
       "         b̅                \n",
       "         ⌠                 \n",
       "-C(q) +  ⎮  (b - h)⋅f(b) db\n",
       "         ⌡                 \n",
       "        q⋅s                "
      ]
     },
     "execution_count": 4,
     "metadata": {},
     "output_type": "execute_result"
    }
   ],
   "source": [
    "s, q = var('s,q',real=True);\n",
    "b, h, B, h0 = symbols('b, h, bbar, h0')\n",
    "b0 = symbols ('b0', cls = Function)(q,s)\n",
    "f = symbols ('f', cls = Function)(b) # density function of b\n",
    "C = symbols ('C', cls = Function)(q) # cost of apprehension and conviction\n",
    "g = symbols ('g', cls = Function)(s) # constraint\n",
    "b0 = q*s\n",
    "funct = (b-h)*f # welfare function\n",
    "W = integrate(funct, (b, (b0, B))) - C \n",
    "g = s\n",
    "W"
   ]
  },
  {
   "cell_type": "code",
   "execution_count": 5,
   "id": "5011df60",
   "metadata": {},
   "outputs": [
    {
     "data": {
      "image/png": "[encoded data removed]",
      "text/latex": [
       "$\\displaystyle - \\lambda s - C{\\left(q \\right)} + \\int\\limits_{q s}^{\\bar{b}} \\left(b - h\\right) f{\\left(b \\right)}\\, db$"
      ],
      "text/plain": [
       "               b̅                \n",
       "               ⌠                 \n",
       "-λ⋅s - C(q) +  ⎮  (b - h)⋅f(b) db\n",
       "               ⌡                 \n",
       "              q⋅s                "
      ]
     },
     "execution_count": 5,
     "metadata": {},
     "output_type": "execute_result"
    }
   ],
   "source": [
    "lam = symbols('lambda', real = True)\n",
    "L = W - lam*g # the Lagrangian equation\n",
    "L"
   ]
  },
  {
   "cell_type": "code",
   "execution_count": 6,
   "id": "b0501316",
   "metadata": {},
   "outputs": [
    {
     "data": {
      "image/png": "[encoded data removed]",
      "text/latex": [
       "$\\displaystyle \\left[ - \\lambda - q \\left(- h + q s\\right) f{\\left(q s \\right)}, \\  - s \\left(- h + q s\\right) f{\\left(q s \\right)} - \\frac{d}{d q} C{\\left(q \\right)}, \\  s\\right]$"
      ],
      "text/plain": [
       "⎡                                                 d          ⎤\n",
       "⎢-λ - q⋅(-h + q⋅s)⋅f(q⋅s), -s⋅(-h + q⋅s)⋅f(q⋅s) - ──(C(q)), s⎥\n",
       "⎣                                                 dq         ⎦"
      ]
     },
     "execution_count": 6,
     "metadata": {},
     "output_type": "execute_result"
    }
   ],
   "source": [
    "gradL = [diff(L,k) for k in [s,q]] # gradient of Lagrangian w.r.t. (s,q)\n",
    "KKT_eqs = gradL + [g]\n",
    "KKT_eqs"
   ]
  },
  {
   "cell_type": "code",
   "execution_count": 7,
   "id": "c29be792",
   "metadata": {},
   "outputs": [
    {
     "data": {
      "image/png": "[encoded data removed]",
      "text/latex": [
       "$\\displaystyle \\left[ \\right]$"
      ],
      "text/plain": [
       "[]"
      ]
     },
     "execution_count": 7,
     "metadata": {},
     "output_type": "execute_result"
    }
   ],
   "source": [
    "stationary_points = solve(KKT_eqs, [s, q, lam], dict=True) # solve the KKT equations\n",
    "stationary_points"
   ]
  },
  {
   "cell_type": "code",
   "execution_count": null,
   "id": "97a21594",
   "metadata": {},
   "outputs": [],
   "source": []
  }
 ],
 "metadata": {
  "kernelspec": {
   "display_name": "Python 3",
   "language": "python",
   "name": "python3"
  },
  "language_info": {
   "codemirror_mode": {
    "name": "ipython",
    "version": 3
   },
   "file_extension": ".py",
   "mimetype": "text/x-python",
   "name": "python",
   "nbconvert_exporter": "python",
   "pygments_lexer": "ipython3",
   "version": "3.6.5"
  }
 },
 "nbformat": 4,
 "nbformat_minor": 5
}
